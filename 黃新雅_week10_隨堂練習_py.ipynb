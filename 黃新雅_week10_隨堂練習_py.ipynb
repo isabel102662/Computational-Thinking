{
  "nbformat": 4,
  "nbformat_minor": 0,
  "metadata": {
    "colab": {
      "name": "黃新雅-week10-隨堂練習.py.ipynb",
      "provenance": [],
      "authorship_tag": "ABX9TyMfHMbKZK9mSPNavEwk100S",
      "include_colab_link": true
    },
    "kernelspec": {
      "name": "python3",
      "display_name": "Python 3"
    }
  },
  "cells": [
    {
      "cell_type": "markdown",
      "metadata": {
        "id": "view-in-github",
        "colab_type": "text"
      },
      "source": [
        "<a href=\"https://colab.research.google.com/github/isabel102662/Computational-Thinking/blob/master/%E9%BB%83%E6%96%B0%E9%9B%85_week10_%E9%9A%A8%E5%A0%82%E7%B7%B4%E7%BF%92_py.ipynb\" target=\"_parent\"><img src=\"https://colab.research.google.com/assets/colab-badge.svg\" alt=\"Open In Colab\"/></a>"
      ]
    },
    {
      "cell_type": "code",
      "metadata": {
        "id": "S_Pca-oKbPDt"
      },
      "source": [
        "movie_title=\"money ball\"#電影名稱\n",
        "\n"
      ],
      "execution_count": 26,
      "outputs": []
    },
    {
      "cell_type": "code",
      "metadata": {
        "id": "ykvzqyt9beD3"
      },
      "source": [
        "release_year=\"2011\"#上映時間"
      ],
      "execution_count": 24,
      "outputs": []
    },
    {
      "cell_type": "code",
      "metadata": {
        "colab": {
          "base_uri": "https://localhost:8080/"
        },
        "id": "ZFGlkHt6bgjN",
        "outputId": "b7f7cb57-d4a4-4d73-af68-a380be8a0b19"
      },
      "source": [
        "print(\"電腦英文名稱\",movie_title)\n"
      ],
      "execution_count": 6,
      "outputs": [
        {
          "output_type": "stream",
          "text": [
            "電腦英文名稱 money ball\n"
          ],
          "name": "stdout"
        }
      ]
    },
    {
      "cell_type": "code",
      "metadata": {
        "colab": {
          "base_uri": "https://localhost:8080/"
        },
        "id": "-7m4ApRLblFN",
        "outputId": "69307883-a4b9-48bd-e848-4c7472669c9f"
      },
      "source": [
        "print(\"上映時間\",release_year)"
      ],
      "execution_count": 7,
      "outputs": [
        {
          "output_type": "stream",
          "text": [
            "上映時間 2011\n"
          ],
          "name": "stdout"
        }
      ]
    },
    {
      "cell_type": "code",
      "metadata": {
        "id": "4HA7OsSibrxO"
      },
      "source": [
        "director=\"Bennett Miller\"#導演\n"
      ],
      "execution_count": 18,
      "outputs": []
    },
    {
      "cell_type": "code",
      "metadata": {
        "colab": {
          "base_uri": "https://localhost:8080/"
        },
        "id": "swd5Mev4cDkO",
        "outputId": "f4abc6a7-b8fc-4611-db76-5c3c4a3bc482"
      },
      "source": [
        "print(\"電影導演\",director)"
      ],
      "execution_count": 12,
      "outputs": [
        {
          "output_type": "stream",
          "text": [
            "電影導演 Bennett Miller\n"
          ],
          "name": "stdout"
        }
      ]
    },
    {
      "cell_type": "code",
      "metadata": {
        "id": "ySCwr3a1dEgQ"
      },
      "source": [
        "movie_rating=\"7.6\"#評分"
      ],
      "execution_count": 17,
      "outputs": []
    },
    {
      "cell_type": "code",
      "metadata": {
        "colab": {
          "base_uri": "https://localhost:8080/"
        },
        "id": "jFUooMcDcaMP",
        "outputId": "e170ecf2-e0cb-4856-b7a5-172a559c31b7"
      },
      "source": [
        "print(\"評分\",movie_rating)"
      ],
      "execution_count": 15,
      "outputs": [
        {
          "output_type": "stream",
          "text": [
            "評分 7.6\n"
          ],
          "name": "stdout"
        }
      ]
    },
    {
      "cell_type": "code",
      "metadata": {
        "id": "oIL2LgpSdsrK"
      },
      "source": [
        "stars_1=\"William Bradley Pitt\"#演員"
      ],
      "execution_count": 22,
      "outputs": []
    },
    {
      "cell_type": "code",
      "metadata": {
        "colab": {
          "base_uri": "https://localhost:8080/"
        },
        "id": "g-dU5kkEednD",
        "outputId": "909d5629-b0f9-4380-a10f-3ac4ad59900c"
      },
      "source": [
        "print(\"演員\",stars_1)"
      ],
      "execution_count": 23,
      "outputs": [
        {
          "output_type": "stream",
          "text": [
            "演員 William Bradley Pitt\n"
          ],
          "name": "stdout"
        }
      ]
    },
    {
      "cell_type": "code",
      "metadata": {
        "id": "rJEKRmgbgo27"
      },
      "source": [
        ""
      ],
      "execution_count": 27,
      "outputs": []
    }
  ]
}