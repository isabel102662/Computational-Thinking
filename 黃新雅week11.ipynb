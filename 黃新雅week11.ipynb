{
  "nbformat": 4,
  "nbformat_minor": 0,
  "metadata": {
    "colab": {
      "name": "黃新雅week11.ipynb",
      "provenance": [],
      "authorship_tag": "ABX9TyNHITUtNltgC6+CggixEqPJ",
      "include_colab_link": true
    },
    "kernelspec": {
      "name": "python3",
      "display_name": "Python 3"
    }
  },
  "cells": [
    {
      "cell_type": "markdown",
      "metadata": {
        "id": "view-in-github",
        "colab_type": "text"
      },
      "source": [
        "<a href=\"https://colab.research.google.com/github/isabel102662/Computational-Thinking/blob/master/%E9%BB%83%E6%96%B0%E9%9B%85week11.ipynb\" target=\"_parent\"><img src=\"https://colab.research.google.com/assets/colab-badge.svg\" alt=\"Open In Colab\"/></a>"
      ]
    },
    {
      "cell_type": "code",
      "metadata": {
        "colab": {
          "base_uri": "https://localhost:8080/"
        },
        "id": "LEwkzdr3piSr",
        "outputId": "bf22a6de-a0d0-4666-8ca8-c5cfe6ac6645"
      },
      "source": [
        "#聊天機器人自我介紹\n",
        "print(\"哈囉，大家好。我叫Zxyo64，是一個聊天機器人。\")\n",
        "hobby=\"我很喜歡美食東西，也喜歡養動物。今天很高興有機會來到世新大學，請大家多多指教。\"\n",
        "print(hobby)"
      ],
      "execution_count": null,
      "outputs": [
        {
          "output_type": "stream",
          "text": [
            "哈囉，大家好。我叫Zxyo64，是一個聊天機器人。\n",
            "我很喜歡美食東西，也喜歡養動物。今天很高興有機會來到世新大學，請大家多多指教。\n"
          ],
          "name": "stdout"
        }
      ]
    },
    {
      "cell_type": "code",
      "metadata": {
        "colab": {
          "base_uri": "https://localhost:8080/"
        },
        "id": "naqcSzQUqPkQ",
        "outputId": "f2b22fd9-7b0e-45bc-bc3c-b99fe5953427"
      },
      "source": [
        "#打招呼猜對方名字\n",
        "name=input(\"嗨!您好，請問大名?:\")\n",
        "\n"
      ],
      "execution_count": null,
      "outputs": [
        {
          "output_type": "stream",
          "text": [
            "嗨!您好，請問大名?:黃新雅\n"
          ],
          "name": "stdout"
        }
      ]
    },
    {
      "cell_type": "code",
      "metadata": {
        "colab": {
          "base_uri": "https://localhost:8080/",
          "height": 199
        },
        "id": "pufYkofMrFgZ",
        "outputId": "f99a3c5d-fe68-49de-9ead-78734d984e33"
      },
      "source": [
        "print(\"我叫\",name)\n",
        "print(\"您好\",name,\"很高興認識你\")\n",
        "\n"
      ],
      "execution_count": 3,
      "outputs": [
        {
          "output_type": "error",
          "ename": "NameError",
          "evalue": "ignored",
          "traceback": [
            "\u001b[0;31m---------------------------------------------------------------------------\u001b[0m",
            "\u001b[0;31mNameError\u001b[0m                                 Traceback (most recent call last)",
            "\u001b[0;32m<ipython-input-3-04e73ac33c67>\u001b[0m in \u001b[0;36m<module>\u001b[0;34m()\u001b[0m\n\u001b[0;32m----> 1\u001b[0;31m \u001b[0mprint\u001b[0m\u001b[0;34m(\u001b[0m\u001b[0;34m\"我叫\"\u001b[0m\u001b[0;34m,\u001b[0m\u001b[0mname\u001b[0m\u001b[0;34m)\u001b[0m\u001b[0;34m\u001b[0m\u001b[0;34m\u001b[0m\u001b[0m\n\u001b[0m\u001b[1;32m      2\u001b[0m \u001b[0mprint\u001b[0m\u001b[0;34m(\u001b[0m\u001b[0;34m\"您好\"\u001b[0m\u001b[0;34m,\u001b[0m\u001b[0mname\u001b[0m\u001b[0;34m,\u001b[0m\u001b[0;34m\"很高興認識你\"\u001b[0m\u001b[0;34m)\u001b[0m\u001b[0;34m\u001b[0m\u001b[0;34m\u001b[0m\u001b[0m\n\u001b[1;32m      3\u001b[0m \u001b[0;34m\u001b[0m\u001b[0m\n",
            "\u001b[0;31mNameError\u001b[0m: name 'name' is not defined"
          ]
        }
      ]
    },
    {
      "cell_type": "code",
      "metadata": {
        "id": "9CFgpaMYrD7x"
      },
      "source": [
        ""
      ],
      "execution_count": null,
      "outputs": []
    }
  ]
}