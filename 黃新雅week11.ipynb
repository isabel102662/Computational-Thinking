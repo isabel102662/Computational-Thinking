{
  "nbformat": 4,
  "nbformat_minor": 0,
  "metadata": {
    "colab": {
      "name": "黃新雅week11.ipynb",
      "provenance": [],
      "authorship_tag": "ABX9TyMHRdoAd2corkVVEEy3qoR7",
      "include_colab_link": true
    },
    "kernelspec": {
      "name": "python3",
      "display_name": "Python 3"
    }
  },
  "cells": [
    {
      "cell_type": "markdown",
      "metadata": {
        "id": "view-in-github",
        "colab_type": "text"
      },
      "source": [
        "<a href=\"https://colab.research.google.com/github/isabel102662/Computational-Thinking/blob/master/%E9%BB%83%E6%96%B0%E9%9B%85week11.ipynb\" target=\"_parent\"><img src=\"https://colab.research.google.com/assets/colab-badge.svg\" alt=\"Open In Colab\"/></a>"
      ]
    },
    {
      "cell_type": "code",
      "metadata": {
        "id": "eyhEeJNhbUZ_"
      },
      "source": [
        "對話機器人\n",
        "print(\"哈囉，大家好。我叫Zyxo64,是一個聊天機器人。\")"
      ],
      "execution_count": null,
      "outputs": []
    },
    {
      "cell_type": "code",
      "metadata": {
        "id": "NhS86aDPnFEX"
      },
      "source": [
        "hobby=\"我很喜歡美食東西，也很喜歡養動物。今天很高興有機會來到世新大學，請大家多多指教。\""
      ],
      "execution_count": 14,
      "outputs": []
    },
    {
      "cell_type": "code",
      "metadata": {
        "colab": {
          "base_uri": "https://localhost:8080/"
        },
        "id": "OCBNt8oBkUEf",
        "outputId": "0905cf3d-053b-4c97-d60e-7fdacf296a41"
      },
      "source": [
        "print(hobby)"
      ],
      "execution_count": 15,
      "outputs": [
        {
          "output_type": "stream",
          "text": [
            "我很喜歡美食東西，也很喜歡養動物。今天很高興有機會來到世新大學，請大家多多指教。\n"
          ],
          "name": "stdout"
        }
      ]
    },
    {
      "cell_type": "code",
      "metadata": {
        "id": "lbjeXB7nndlR"
      },
      "source": [
        "#打招呼取得對方名字]\n",
        "name=input(\"嗨!您好，請問大名?:\")\n",
        "print(\"我叫\",name)\n",
        "print(\"您好\",name,\"很高興認識你\")"
      ],
      "execution_count": null,
      "outputs": []
    }
  ]
}