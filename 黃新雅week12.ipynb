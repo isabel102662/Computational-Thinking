{
  "nbformat": 4,
  "nbformat_minor": 0,
  "metadata": {
    "colab": {
      "name": "黃新雅week12.ipynb",
      "provenance": [],
      "authorship_tag": "ABX9TyM7WKnRfq3BGn8lKe6C9L+f",
      "include_colab_link": true
    },
    "kernelspec": {
      "name": "python3",
      "display_name": "Python 3"
    }
  },
  "cells": [
    {
      "cell_type": "markdown",
      "metadata": {
        "id": "view-in-github",
        "colab_type": "text"
      },
      "source": [
        "<a href=\"https://colab.research.google.com/github/isabel102662/Computational-Thinking/blob/master/%E9%BB%83%E6%96%B0%E9%9B%85week12.ipynb\" target=\"_parent\"><img src=\"https://colab.research.google.com/assets/colab-badge.svg\" alt=\"Open In Colab\"/></a>"
      ]
    },
    {
      "cell_type": "code",
      "metadata": {
        "colab": {
          "base_uri": "https://localhost:8080/",
          "height": 267
        },
        "id": "j-GnLo8jg82e",
        "outputId": "35f032de-6745-47d5-e2df-57ceb213c949"
      },
      "source": [
        "#隨堂練習1\n",
        "list5=(\"牛奶\",\"蛋\",\"咖啡豆\",\"西瓜\",\"鳳梨\")\n",
        "print(list5)\n",
        "##索引\n",
        "print(list5[0])\n",
        "##變更\n",
        "list5[1]=\"皮蛋\"\n",
        "print(list5)\n",
        "##切片\n",
        "print(list5[1:3])"
      ],
      "execution_count": 32,
      "outputs": [
        {
          "output_type": "stream",
          "text": [
            "('牛奶', '蛋', '咖啡豆', '西瓜', '鳳梨')\n",
            "牛奶\n"
          ],
          "name": "stdout"
        },
        {
          "output_type": "error",
          "ename": "TypeError",
          "evalue": "ignored",
          "traceback": [
            "\u001b[0;31m---------------------------------------------------------------------------\u001b[0m",
            "\u001b[0;31mTypeError\u001b[0m                                 Traceback (most recent call last)",
            "\u001b[0;32m<ipython-input-32-8f4c953b7512>\u001b[0m in \u001b[0;36m<module>\u001b[0;34m()\u001b[0m\n\u001b[1;32m      5\u001b[0m \u001b[0mprint\u001b[0m\u001b[0;34m(\u001b[0m\u001b[0mlist5\u001b[0m\u001b[0;34m[\u001b[0m\u001b[0;36m0\u001b[0m\u001b[0;34m]\u001b[0m\u001b[0;34m)\u001b[0m\u001b[0;34m\u001b[0m\u001b[0;34m\u001b[0m\u001b[0m\n\u001b[1;32m      6\u001b[0m \u001b[0;31m##變更\u001b[0m\u001b[0;34m\u001b[0m\u001b[0;34m\u001b[0m\u001b[0;34m\u001b[0m\u001b[0m\n\u001b[0;32m----> 7\u001b[0;31m \u001b[0mlist5\u001b[0m\u001b[0;34m[\u001b[0m\u001b[0;36m1\u001b[0m\u001b[0;34m]\u001b[0m\u001b[0;34m=\u001b[0m\u001b[0;34m\"皮蛋\"\u001b[0m\u001b[0;34m\u001b[0m\u001b[0;34m\u001b[0m\u001b[0m\n\u001b[0m\u001b[1;32m      8\u001b[0m \u001b[0mprint\u001b[0m\u001b[0;34m(\u001b[0m\u001b[0mlist5\u001b[0m\u001b[0;34m)\u001b[0m\u001b[0;34m\u001b[0m\u001b[0;34m\u001b[0m\u001b[0m\n\u001b[1;32m      9\u001b[0m \u001b[0;31m##切片\u001b[0m\u001b[0;34m\u001b[0m\u001b[0;34m\u001b[0m\u001b[0;34m\u001b[0m\u001b[0m\n",
            "\u001b[0;31mTypeError\u001b[0m: 'tuple' object does not support item assignment"
          ]
        }
      ]
    },
    {
      "cell_type": "code",
      "metadata": {
        "colab": {
          "base_uri": "https://localhost:8080/",
          "height": 233
        },
        "id": "ny4pwgJOhefc",
        "outputId": "fde7138d-6a24-4200-902f-6d1329abb86f"
      },
      "source": [
        "#隨堂練習2:NBA冠軍球隊的資訊\n",
        "#變數賦值串列\n",
        "season=\"1995-1996\"\n",
        "team=\"Chicogo Bulls\"\n",
        "coach=\"Phil Jackon\"\n",
        "records=[72,10]\n",
        "starding=[\"Ron Harper\",\"Michael Jordan\",\"Scottie Pippen\",\"Dennis Rodman\",\"Luc Longley\"]\n",
        "champion=Ture\n",
        "best_NBA=list((season,taem,coach,records,starting,champion))\n",
        "print(best_NBA)\n",
        "#indexing索引\n",
        "print(best_NBA[4])\n",
        "print(best_NBA[-2])\n",
        "print(best_NBA[0:3])"
      ],
      "execution_count": 48,
      "outputs": [
        {
          "output_type": "error",
          "ename": "NameError",
          "evalue": "ignored",
          "traceback": [
            "\u001b[0;31m---------------------------------------------------------------------------\u001b[0m",
            "\u001b[0;31mNameError\u001b[0m                                 Traceback (most recent call last)",
            "\u001b[0;32m<ipython-input-48-45339240a5d5>\u001b[0m in \u001b[0;36m<module>\u001b[0;34m()\u001b[0m\n\u001b[1;32m      6\u001b[0m \u001b[0mrecords\u001b[0m\u001b[0;34m=\u001b[0m\u001b[0;34m[\u001b[0m\u001b[0;36m72\u001b[0m\u001b[0;34m,\u001b[0m\u001b[0;36m10\u001b[0m\u001b[0;34m]\u001b[0m\u001b[0;34m\u001b[0m\u001b[0;34m\u001b[0m\u001b[0m\n\u001b[1;32m      7\u001b[0m \u001b[0mstarding\u001b[0m\u001b[0;34m=\u001b[0m\u001b[0;34m[\u001b[0m\u001b[0;34m\"Ron Harper\"\u001b[0m\u001b[0;34m,\u001b[0m\u001b[0;34m\"Michael Jordan\"\u001b[0m\u001b[0;34m,\u001b[0m\u001b[0;34m\"Scottie Pippen\"\u001b[0m\u001b[0;34m,\u001b[0m\u001b[0;34m\"Dennis Rodman\"\u001b[0m\u001b[0;34m,\u001b[0m\u001b[0;34m\"Luc Longley\"\u001b[0m\u001b[0;34m]\u001b[0m\u001b[0;34m\u001b[0m\u001b[0;34m\u001b[0m\u001b[0m\n\u001b[0;32m----> 8\u001b[0;31m \u001b[0mchampion\u001b[0m\u001b[0;34m=\u001b[0m\u001b[0mTure\u001b[0m\u001b[0;34m\u001b[0m\u001b[0;34m\u001b[0m\u001b[0m\n\u001b[0m\u001b[1;32m      9\u001b[0m \u001b[0mbest_NBA\u001b[0m\u001b[0;34m=\u001b[0m\u001b[0mlist\u001b[0m\u001b[0;34m(\u001b[0m\u001b[0;34m(\u001b[0m\u001b[0mseason\u001b[0m\u001b[0;34m,\u001b[0m\u001b[0mtaem\u001b[0m\u001b[0;34m,\u001b[0m\u001b[0mcoach\u001b[0m\u001b[0;34m,\u001b[0m\u001b[0mrecords\u001b[0m\u001b[0;34m,\u001b[0m\u001b[0mstarting\u001b[0m\u001b[0;34m,\u001b[0m\u001b[0mchampion\u001b[0m\u001b[0;34m)\u001b[0m\u001b[0;34m)\u001b[0m\u001b[0;34m\u001b[0m\u001b[0;34m\u001b[0m\u001b[0m\n\u001b[1;32m     10\u001b[0m \u001b[0mprint\u001b[0m\u001b[0;34m(\u001b[0m\u001b[0mbest_NBA\u001b[0m\u001b[0;34m)\u001b[0m\u001b[0;34m\u001b[0m\u001b[0;34m\u001b[0m\u001b[0m\n",
            "\u001b[0;31mNameError\u001b[0m: name 'Ture' is not defined"
          ]
        }
      ]
    }
  ]
}